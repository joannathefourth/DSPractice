{
 "cells": [
  {
   "cell_type": "markdown",
   "id": "cba9dbe5",
   "metadata": {},
   "source": [
    "# Titanic Dataset Analysis"
   ]
  },
  {
   "cell_type": "markdown",
   "id": "149c96fb",
   "metadata": {},
   "source": [
    "Your task is to apply all the methods (including visualization, preprocessing, dropping the columns, etc) and create a model using any of the models which will predict either the person was survived or not! Apart from just building the models, I also want you to do the data analysis and visualization to give more information about the dataset. "
   ]
  },
  {
   "cell_type": "markdown",
   "id": "113aff70",
   "metadata": {},
   "source": [
    "Hint: <br>\n",
    "<li> You can drop the name, passengerID, etc which are general information</li>\n",
    "<li> Maybe check how many survived and how many died</li>\n",
    "<li> Check for null values and maybe handle if any </li>\n",
    "<li> Check how died most, male or female </li>\n",
    "<li> What aged people died the most </li>\n",
    "<li> Build a model which can predict either someone died or survived based on some input values </li>"
   ]
  },
  {
   "cell_type": "code",
   "execution_count": null,
   "id": "a9304e0d",
   "metadata": {},
   "outputs": [],
   "source": []
  }
 ],
 "metadata": {
  "kernelspec": {
   "display_name": "Python 3 (ipykernel)",
   "language": "python",
   "name": "python3"
  },
  "language_info": {
   "codemirror_mode": {
    "name": "ipython",
    "version": 3
   },
   "file_extension": ".py",
   "mimetype": "text/x-python",
   "name": "python",
   "nbconvert_exporter": "python",
   "pygments_lexer": "ipython3",
   "version": "3.10.12"
  }
 },
 "nbformat": 4,
 "nbformat_minor": 5
}
